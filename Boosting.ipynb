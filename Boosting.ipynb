{
 "cells": [
  {
   "cell_type": "code",
   "execution_count": 529,
   "id": "a564686d-d01a-4b03-94f3-02bf5f8627d1",
   "metadata": {},
   "outputs": [],
   "source": [
    "import tensorflow as tf\n",
    "import numpy as np\n",
    "import os\n",
    "import matplotlib.pyplot as plt\n",
    "from tensorflow import keras"
   ]
  },
  {
   "cell_type": "markdown",
   "id": "092807be",
   "metadata": {},
   "source": [
    "## Loading MNIST with Tensorflow"
   ]
  },
  {
   "cell_type": "code",
   "execution_count": 530,
   "id": "4407f926-ccea-4946-bef6-bc07b8f449fd",
   "metadata": {},
   "outputs": [],
   "source": [
    "(x_train, y_train), (x_test, y_test) = tf.keras.datasets.mnist.load_data()"
   ]
  },
  {
   "cell_type": "code",
   "execution_count": 531,
   "id": "85eec9a2",
   "metadata": {},
   "outputs": [
    {
     "data": {
      "text/plain": [
       "5"
      ]
     },
     "execution_count": 531,
     "metadata": {},
     "output_type": "execute_result"
    }
   ],
   "source": [
    "y_train[0]"
   ]
  },
  {
   "cell_type": "code",
   "execution_count": 532,
   "id": "daa83e3e",
   "metadata": {},
   "outputs": [],
   "source": [
    "x_crop_train = []\n",
    "y_crop_train = []\n",
    "\n",
    "for x, y in zip(x_train, y_train):\n",
    "    if y == 6 or y == 5:\n",
    "        x_crop_train.append(x)\n",
    "        y_crop_train.append(y)\n",
    "\n",
    "x_crop_test = []\n",
    "y_crop_test = []\n",
    "\n",
    "for x, y in zip(x_test, y_test):\n",
    "    if y == 6 or y == 5:\n",
    "        x_crop_test.append(x)\n",
    "        y_crop_test.append(y)\n",
    "\n",
    "assert(len(x_crop_train) == len(y_crop_train))\n",
    "assert(len(x_crop_test) == len(y_crop_test))"
   ]
  },
  {
   "cell_type": "code",
   "execution_count": 533,
   "id": "2ca9bebc",
   "metadata": {},
   "outputs": [],
   "source": [
    "del x_train\n",
    "del y_train\n",
    "del x_test\n",
    "del y_test"
   ]
  },
  {
   "cell_type": "code",
   "execution_count": 534,
   "id": "5c47b17a",
   "metadata": {},
   "outputs": [],
   "source": [
    "y_crop_train = [1 if x == 5 else 0 for x in y_crop_train ]\n",
    "y_crop_test = [1 if x == 5 else 0 for x in y_crop_test ]"
   ]
  },
  {
   "cell_type": "markdown",
   "id": "1f4f0356",
   "metadata": {},
   "source": [
    "## Reading the image pixel by pixel"
   ]
  },
  {
   "cell_type": "code",
   "execution_count": 535,
   "id": "e9f3ce36",
   "metadata": {},
   "outputs": [],
   "source": [
    "first_image = x_crop_train[0]"
   ]
  },
  {
   "cell_type": "code",
   "execution_count": 536,
   "id": "6f301856-6db6-4c01-b83c-7d2b772407ff",
   "metadata": {},
   "outputs": [
    {
     "data": {
      "text/plain": [
       "<matplotlib.image.AxesImage at 0x7fa1fe558e90>"
      ]
     },
     "execution_count": 536,
     "metadata": {},
     "output_type": "execute_result"
    },
    {
     "data": {
      "image/png": "[encoded data removed]",
      "text/plain": [
       "<Figure size 432x288 with 1 Axes>"
      ]
     },
     "metadata": {
      "needs_background": "light"
     },
     "output_type": "display_data"
    }
   ],
   "source": [
    "plt.imshow(first_image)"
   ]
  },
  {
   "cell_type": "code",
   "execution_count": 537,
   "id": "9aced888",
   "metadata": {},
   "outputs": [
    {
     "data": {
      "text/plain": [
       "253"
      ]
     },
     "execution_count": 537,
     "metadata": {},
     "output_type": "execute_result"
    }
   ],
   "source": [
    "first_image[8][10]"
   ]
  },
  {
   "cell_type": "code",
   "execution_count": 538,
   "id": "49115d74",
   "metadata": {},
   "outputs": [
    {
     "data": {
      "text/plain": [
       "<matplotlib.image.AxesImage at 0x7fa1fa75e050>"
      ]
     },
     "execution_count": 538,
     "metadata": {},
     "output_type": "execute_result"
    },
    {
     "data": {
      "image/png": "[encoded data removed]",
      "text/plain": [
       "<Figure size 432x288 with 1 Axes>"
      ]
     },
     "metadata": {
      "needs_background": "light"
     },
     "output_type": "display_data"
    }
   ],
   "source": [
    "plt.imshow([item[10:15] for item in first_image[10:13]])"
   ]
  },
  {
   "cell_type": "code",
   "execution_count": 539,
   "id": "ab924b1f",
   "metadata": {},
   "outputs": [
    {
     "data": {
      "text/plain": [
       "[array([  1, 154, 253,  90,   0], dtype=uint8),\n",
       " array([  0, 139, 253, 190,   2], dtype=uint8),\n",
       " array([  0,  11, 190, 253,  70], dtype=uint8)]"
      ]
     },
     "execution_count": 539,
     "metadata": {},
     "output_type": "execute_result"
    }
   ],
   "source": [
    "[item[10:15] for item in first_image[10:13]]"
   ]
  },
  {
   "cell_type": "code",
   "execution_count": 540,
   "id": "63469010",
   "metadata": {},
   "outputs": [
    {
     "data": {
      "text/plain": [
       "154"
      ]
     },
     "execution_count": 540,
     "metadata": {},
     "output_type": "execute_result"
    }
   ],
   "source": [
    "# just need to work with the indexes\n",
    "first_image[10][11]"
   ]
  },
  {
   "cell_type": "markdown",
   "id": "795f8a2d",
   "metadata": {},
   "source": [
    "### Creating an array for each pixel \n",
    "We have images 28x28, so we will have 784 arrays of the size of the mnist dataset"
   ]
  },
  {
   "cell_type": "code",
   "execution_count": 541,
   "id": "e9b62a90",
   "metadata": {},
   "outputs": [],
   "source": [
    "# 28\n",
    "img_size = len(x_crop_train[0])\n",
    "# 784\n",
    "number_pixels = len(x_crop_train[0])*len(x_crop_train[0][0])\n",
    "\n",
    "\n",
    "len_train = len(x_crop_train)\n",
    "len_test = len(x_crop_test)"
   ]
  },
  {
   "cell_type": "code",
   "execution_count": 542,
   "id": "15efd36b",
   "metadata": {},
   "outputs": [
    {
     "data": {
      "text/plain": [
       "'\\nThe resulting array works as following:\\n[\\n    [] -> pixel 0x0 of every image in the train dataset\\n    [] -> pixel 0x1 of every image in the train dataset\\n    ...\\n    [] -> pixel 28x28 of every image in the dataset\\n]\\n\\nThe ideia is that each of this array of every pixel will be used as the x input of a classifier alongside y_crop_train\\n'"
      ]
     },
     "execution_count": 542,
     "metadata": {},
     "output_type": "execute_result"
    }
   ],
   "source": [
    "\n",
    "def get_pixels(dataset):\n",
    "    ## will store the arrays for each pixel\n",
    "    _arrays_pixels = []\n",
    "    for pixel in range(number_pixels):\n",
    "        _arrays_pixels.append( list() )\n",
    "\n",
    "    for image in dataset:\n",
    "        for pixel in range(0,number_pixels):\n",
    "            idx_column = int(pixel%img_size)\n",
    "            idx_row = int(pixel/img_size)\n",
    "            \n",
    "            _arrays_pixels[pixel].append(image[idx_row][idx_column])\n",
    "\n",
    "    return _arrays_pixels\n",
    "\n",
    "\n",
    "arrays_pixels = get_pixels(x_crop_train)\n",
    "\n",
    "'''\n",
    "The resulting array works as following:\n",
    "[\n",
    "    [] -> pixel 0x0 of every image in the train dataset\n",
    "    [] -> pixel 0x1 of every image in the train dataset\n",
    "    ...\n",
    "    [] -> pixel 28x28 of every image in the dataset\n",
    "]\n",
    "\n",
    "The ideia is that each of this array of every pixel will be used as the x input of a classifier alongside y_crop_train\n",
    "'''"
   ]
  },
  {
   "cell_type": "code",
   "execution_count": 543,
   "id": "44c6e8aa",
   "metadata": {},
   "outputs": [
    {
     "data": {
      "text/plain": [
       "253"
      ]
     },
     "execution_count": 543,
     "metadata": {},
     "output_type": "execute_result"
    }
   ],
   "source": [
    "x_crop_train[0][8][10]"
   ]
  },
  {
   "cell_type": "code",
   "execution_count": 544,
   "id": "70481bce",
   "metadata": {},
   "outputs": [
    {
     "data": {
      "text/plain": [
       "253"
      ]
     },
     "execution_count": 544,
     "metadata": {},
     "output_type": "execute_result"
    }
   ],
   "source": [
    "arrays_pixels[8*28+10][0]"
   ]
  },
  {
   "cell_type": "code",
   "execution_count": 545,
   "id": "2dd83200",
   "metadata": {},
   "outputs": [],
   "source": [
    "assert(len(arrays_pixels) == number_pixels)\n",
    "assert(len(arrays_pixels[0]) == len_train)\n",
    "assert(len(arrays_pixels[0]) == len(y_crop_train))\n",
    "\n",
    "# checking if the data was stored correctly\n",
    "assert(arrays_pixels[8*28 + 10][0] == x_crop_train[0][8][10])"
   ]
  },
  {
   "cell_type": "markdown",
   "id": "523bd0d7",
   "metadata": {},
   "source": [
    "## Training Classifiers\n",
    "\n",
    "For the weak classifiers, I chose a Decision Tree. Since the input is a single value, there is no need for a more complex classifier. A regression model would also work."
   ]
  },
  {
   "cell_type": "code",
   "execution_count": 546,
   "id": "336a0ef8",
   "metadata": {},
   "outputs": [],
   "source": [
    "from sklearn import tree"
   ]
  },
  {
   "cell_type": "code",
   "execution_count": 547,
   "id": "45d00068",
   "metadata": {},
   "outputs": [],
   "source": [
    "# needed since this is a single feature input\n",
    "arrays_pixels = [np.array(lst).reshape(-1, 1) for lst in arrays_pixels]\n",
    "# need to convert to numpy\n",
    "y_crop_train = np.array(y_crop_train).reshape(-1, 1)"
   ]
  },
  {
   "cell_type": "code",
   "execution_count": 548,
   "id": "7e3b978c",
   "metadata": {},
   "outputs": [],
   "source": [
    "weak_classifiers = []\n",
    "\n",
    "for X_input in arrays_pixels:\n",
    "    weak_clf = tree.DecisionTreeClassifier()\n",
    "    weak_clf = weak_clf.fit(X_input, y_crop_train)\n",
    "    weak_classifiers.append(weak_clf)"
   ]
  },
  {
   "cell_type": "code",
   "execution_count": 549,
   "id": "69fb3c94",
   "metadata": {},
   "outputs": [],
   "source": [
    "assert (len(weak_classifiers) == number_pixels)"
   ]
  },
  {
   "cell_type": "markdown",
   "id": "02f56832",
   "metadata": {},
   "source": [
    "### Testing weak classifiers"
   ]
  },
  {
   "cell_type": "code",
   "execution_count": 550,
   "id": "71ececa7",
   "metadata": {},
   "outputs": [],
   "source": [
    "from sklearn.metrics import accuracy_score"
   ]
  },
  {
   "cell_type": "code",
   "execution_count": 551,
   "id": "08411e0b",
   "metadata": {},
   "outputs": [],
   "source": [
    "scores = []\n",
    "training_preds = []\n",
    "\n",
    "# gets each classifier trained at each pixel and predicts in the training dataset how well it was\n",
    "for pixel in range(0, number_pixels):\n",
    "    clf = weak_classifiers[pixel]\n",
    "\n",
    "    preds = clf.predict(arrays_pixels[pixel])\n",
    "    training_preds.append(preds)\n",
    "    score = accuracy_score(preds, y_crop_train)\n",
    "    scores.append(score)"
   ]
  },
  {
   "cell_type": "code",
   "execution_count": 552,
   "id": "d2fc2281",
   "metadata": {},
   "outputs": [],
   "source": [
    "arrays_pixels_test = get_pixels(x_crop_test)\n",
    "\n",
    "# needed since this is a single feature input\n",
    "arrays_pixels_test = [np.array(lst).reshape(-1, 1) for lst in arrays_pixels_test]\n",
    "# need to convert to numpy\n",
    "y_crop_test = np.array(y_crop_test).reshape(-1, 1)\n",
    "\n",
    "test_scores = []\n",
    "test_preds = []\n",
    "\n",
    "for pixel in range(0, number_pixels):\n",
    "    clf = weak_classifiers[pixel]\n",
    "\n",
    "    preds = clf.predict(arrays_pixels_test[pixel])\n",
    "    test_preds.append(preds)\n",
    "\n",
    "    test_score = accuracy_score(preds, y_crop_test)\n",
    "    test_scores.append(test_score)"
   ]
  },
  {
   "cell_type": "markdown",
   "id": "c642ed9f",
   "metadata": {},
   "source": [
    "### Visualizing results from classifiers"
   ]
  },
  {
   "cell_type": "code",
   "execution_count": 553,
   "id": "78737d61",
   "metadata": {},
   "outputs": [],
   "source": [
    "reshaped_scores = np.array(scores).reshape(img_size, img_size)\n",
    "reshaped_scores_test = np.array(test_scores).reshape(img_size, img_size)"
   ]
  },
  {
   "cell_type": "code",
   "execution_count": 554,
   "id": "0783cae5",
   "metadata": {},
   "outputs": [
    {
     "data": {
      "text/plain": [
       "<matplotlib.image.AxesImage at 0x7fa1fa7b2b50>"
      ]
     },
     "execution_count": 554,
     "metadata": {},
     "output_type": "execute_result"
    },
    {
     "data": {
      "image/png": "[encoded data removed]",
      "text/plain": [
       "<Figure size 432x288 with 1 Axes>"
      ]
     },
     "metadata": {
      "needs_background": "light"
     },
     "output_type": "display_data"
    }
   ],
   "source": [
    "plt.imshow(reshaped_scores)"
   ]
  },
  {
   "cell_type": "code",
   "execution_count": 555,
   "id": "869db9c0",
   "metadata": {},
   "outputs": [
    {
     "data": {
      "image/png": "[encoded data removed]",
      "text/plain": [
       "<Figure size 1440x360 with 1 Axes>"
      ]
     },
     "metadata": {
      "needs_background": "light"
     },
     "output_type": "display_data"
    }
   ],
   "source": [
    "array_indexes = range(0, number_pixels)\n",
    "\n",
    "fig = plt.figure(figsize = (20, 5))\n",
    "plt.bar(array_indexes, scores, color ='maroon',\n",
    "        width = 0.4)\n",
    "\n",
    "plt.show()"
   ]
  },
  {
   "cell_type": "markdown",
   "id": "317ee1c6",
   "metadata": {},
   "source": [
    "#### Test Dataframe"
   ]
  },
  {
   "cell_type": "code",
   "execution_count": 556,
   "id": "e5433fce",
   "metadata": {},
   "outputs": [
    {
     "data": {
      "text/plain": [
       "<matplotlib.image.AxesImage at 0x7fa1fc146a50>"
      ]
     },
     "execution_count": 556,
     "metadata": {},
     "output_type": "execute_result"
    },
    {
     "data": {
      "image/png": "[encoded data removed]",
      "text/plain": [
       "<Figure size 432x288 with 1 Axes>"
      ]
     },
     "metadata": {
      "needs_background": "light"
     },
     "output_type": "display_data"
    }
   ],
   "source": [
    "plt.imshow(reshaped_scores_test)"
   ]
  },
  {
   "cell_type": "code",
   "execution_count": 557,
   "id": "71e2ebf8",
   "metadata": {},
   "outputs": [
    {
     "data": {
      "image/png": "[encoded data removed]",
      "text/plain": [
       "<Figure size 1440x360 with 1 Axes>"
      ]
     },
     "metadata": {
      "needs_background": "light"
     },
     "output_type": "display_data"
    }
   ],
   "source": [
    "fig = plt.figure(figsize = (20, 5))\n",
    "plt.bar(array_indexes, test_scores, color ='maroon',\n",
    "        width = 0.4)\n",
    "\n",
    "plt.show()"
   ]
  },
  {
   "cell_type": "code",
   "execution_count": 558,
   "id": "6cd2d08d",
   "metadata": {},
   "outputs": [
    {
     "data": {
      "text/plain": [
       "0.8637837837837837"
      ]
     },
     "execution_count": 558,
     "metadata": {},
     "output_type": "execute_result"
    }
   ],
   "source": [
    "# The accuracy of the best pixel classifier for the test dataset \n",
    "max(test_scores)"
   ]
  },
  {
   "cell_type": "markdown",
   "id": "0c24e568",
   "metadata": {},
   "source": [
    "### Metrics for each image\n",
    "\n",
    "In the previous section, we saw the metrics and heap map of accuracy for each of the pixels. \n",
    "\n",
    "Now, lets consider that the result for an image is the \n",
    "- Average of every classifer\n",
    "- The best classifier"
   ]
  },
  {
   "cell_type": "markdown",
   "id": "5689e1c8",
   "metadata": {},
   "source": [
    "#### Average Classifier"
   ]
  },
  {
   "cell_type": "code",
   "execution_count": 559,
   "id": "74fc8caf",
   "metadata": {},
   "outputs": [],
   "source": [
    "## Training Predictions\n",
    "preds_per_image_train = []\n",
    "\n",
    "for img_idx in range(len_train):\n",
    "    preds_for_img = []\n",
    "    for pixel in range(number_pixels):\n",
    "        preds_for_img.append(training_preds[pixel][img_idx])\n",
    "\n",
    "    avg_pred = np.mean(preds_for_img)\n",
    "    preds_per_image_train.append(avg_pred)\n"
   ]
  },
  {
   "cell_type": "code",
   "execution_count": 560,
   "id": "18741ba1",
   "metadata": {},
   "outputs": [],
   "source": [
    "final_train_pred = [1 if pred >= 0.5 else 0 for pred in preds_per_image_train]"
   ]
  },
  {
   "cell_type": "code",
   "execution_count": 561,
   "id": "1d28f9cf",
   "metadata": {},
   "outputs": [],
   "source": [
    "import seaborn as sns\n",
    "from sklearn.metrics import confusion_matrix"
   ]
  },
  {
   "cell_type": "code",
   "execution_count": 562,
   "id": "84637579",
   "metadata": {},
   "outputs": [
    {
     "name": "stdout",
     "output_type": "stream",
     "text": [
      "[[5918    0]\n",
      " [5421    0]]\n"
     ]
    }
   ],
   "source": [
    "#Get the confusion matrix\n",
    "cf_matrix = confusion_matrix(y_crop_train , final_train_pred)\n",
    "print(cf_matrix)"
   ]
  },
  {
   "cell_type": "code",
   "execution_count": 563,
   "id": "a53d2d3b",
   "metadata": {},
   "outputs": [
    {
     "data": {
      "text/plain": [
       "<AxesSubplot:>"
      ]
     },
     "execution_count": 563,
     "metadata": {},
     "output_type": "execute_result"
    },
    {
     "data": {
      "image/png": "[encoded data removed]",
      "text/plain": [
       "<Figure size 432x288 with 2 Axes>"
      ]
     },
     "metadata": {
      "needs_background": "light"
     },
     "output_type": "display_data"
    }
   ],
   "source": [
    "sns.heatmap(cf_matrix/np.sum(cf_matrix), annot=True, fmt='.2%', cmap='Blues')"
   ]
  },
  {
   "cell_type": "markdown",
   "id": "d534d8f5",
   "metadata": {},
   "source": [
    "#### Best Classifier\n",
    "\n",
    "Using the best pixel classifier as image classifier"
   ]
  },
  {
   "cell_type": "code",
   "execution_count": 564,
   "id": "8ff1530a",
   "metadata": {},
   "outputs": [],
   "source": [
    "index_max = np.argmax(scores)"
   ]
  },
  {
   "cell_type": "code",
   "execution_count": 565,
   "id": "e8b0c15f",
   "metadata": {},
   "outputs": [
    {
     "name": "stdout",
     "output_type": "stream",
     "text": [
      "514 18 10\n",
      "0.868330540612047\n"
     ]
    }
   ],
   "source": [
    "## The best pixel classifier is the one that uses info from pixel 367\n",
    "print(index_max, int(index_max/img_size), index_max%img_size)\n",
    "print(scores[index_max])"
   ]
  },
  {
   "cell_type": "code",
   "execution_count": 566,
   "id": "755bee61",
   "metadata": {},
   "outputs": [
    {
     "name": "stdout",
     "output_type": "stream",
     "text": [
      "[[5282  636]\n",
      " [ 857 4564]]\n"
     ]
    },
    {
     "data": {
      "text/plain": [
       "<AxesSubplot:>"
      ]
     },
     "execution_count": 566,
     "metadata": {},
     "output_type": "execute_result"
    },
    {
     "data": {
      "image/png": "[encoded data removed]",
      "text/plain": [
       "<Figure size 432x288 with 2 Axes>"
      ]
     },
     "metadata": {
      "needs_background": "light"
     },
     "output_type": "display_data"
    }
   ],
   "source": [
    "best_pixel_preds = [1 if x >=0.5 else 0 for x in training_preds[index_max]]\n",
    "#Get the confusion matrix\n",
    "cf_matrix = confusion_matrix(y_crop_train , best_pixel_preds)\n",
    "print(cf_matrix)\n",
    "sns.heatmap(cf_matrix/np.sum(cf_matrix), annot=True, fmt='.2%', cmap='Blues')"
   ]
  },
  {
   "cell_type": "markdown",
   "id": "97839b31",
   "metadata": {},
   "source": [
    "## Boosting\n",
    "\n",
    "Now, lets use the classifiers for the boosting algorithm"
   ]
  },
  {
   "cell_type": "code",
   "execution_count": 567,
   "id": "9b2fe50e",
   "metadata": {},
   "outputs": [],
   "source": [
    "for preds in test_preds:\n",
    "    for p in preds:\n",
    "        if p != 0 and p != 1:\n",
    "            print(p)"
   ]
  },
  {
   "cell_type": "code",
   "execution_count": 609,
   "id": "ee4b3b9a",
   "metadata": {},
   "outputs": [
    {
     "name": "stdout",
     "output_type": "stream",
     "text": [
      "300\n"
     ]
    }
   ],
   "source": [
    "# for this pixel, we have m = (number of pixels) experts\n",
    "\n",
    "\n",
    "# Number of samples\n",
    "N = len_test\n",
    "\n",
    "# defining the weights array\n",
    "w_t = [1] * N\n",
    "\n",
    "# defining the probability array over the __data__\n",
    "p_t = [1/N] * N\n",
    "\n",
    "# defining gamma factor for gamma-weak learning\n",
    "gamma = 0.1\n",
    "\n",
    "# factor for learning\n",
    "epsilon = 0.5\n",
    "\n",
    "# tolerance for finding gamma-weak classifier\n",
    "TOL = gamma*0.5\n",
    "\n",
    "# defining the duration of the game\n",
    "T = int(4*np.log(len_test)/gamma)\n",
    "\n",
    "\n",
    "print(T)"
   ]
  },
  {
   "cell_type": "code",
   "execution_count": 610,
   "id": "3c828595",
   "metadata": {},
   "outputs": [],
   "source": [
    "# This function checks the gamma-weak of the classifier\n",
    "# It does so by calculating the losses (pred != true) and multiplying by the distribution p^t\n",
    "def check_gamma_weak(dist_p_t, clf_pred, true_y):\n",
    "    sum = 0\n",
    "    for idx in range(N):\n",
    "        # this sum represents the ones that the classifier gets wrong\n",
    "        sum += dist_p_t[idx]*(1 if clf_pred[idx] != true_y[idx] else 0)\n",
    "\n",
    "    return sum\n",
    "\n",
    "def creates_r_t(clf_pred, true_y):\n",
    "    _r_t = [0]*N\n",
    "    for idx in range(N):\n",
    "        if clf_pred[idx] != true_y[idx]:\n",
    "            _r_t[idx] = 1\n",
    "    return _r_t\n",
    "\n",
    "\n",
    "def multiplicative_weights_update(w_t, r_i):\n",
    "\n",
    "    new_w_t = [0]*N\n",
    "\n",
    "    for idx in range(N):\n",
    "        new_w_t[idx] = w_t[idx]*(1 + epsilon*r_i[idx])\n",
    "\n",
    "    return new_w_t\n",
    "\n",
    "## Gets the most common element in a list\n",
    "def most_common(lst):\n",
    "    return max(set(lst), key=lst.count)\n",
    "\n",
    "\n",
    "## Calculates the accuracy of the predictions from the boosting classifier\n",
    "def boosting_accuracy(boosting_clfs, true_y):\n",
    "    #predict_with_boosting\n",
    "    predictions_boosting = []\n",
    "\n",
    "    for elem in range(N):\n",
    "        _preds = []\n",
    "        for idx_clf in boosting_clfs:\n",
    "            # the prediction from this classifier forr this element from the dataset\n",
    "            _preds.append(test_preds[idx_clf][elem])\n",
    "        \n",
    "        predictions_boosting.append(most_common(_preds))\n",
    "\n",
    "    test_score = accuracy_score(predictions_boosting, true_y)\n",
    "    print(test_score)\n",
    "    return test_score\n",
    "\n"
   ]
  },
  {
   "cell_type": "code",
   "execution_count": 611,
   "id": "33e0c450",
   "metadata": {},
   "outputs": [
    {
     "name": "stdout",
     "output_type": "stream",
     "text": [
      "0.8637837837837837\n",
      "0.8291891891891892\n",
      "0.8945945945945946\n",
      "0.847027027027027\n",
      "0.9075675675675675\n",
      "0.9064864864864864\n",
      "0.9254054054054054\n",
      "0.927027027027027\n",
      "0.9313513513513514\n",
      "0.9308108108108109\n",
      "0.9335135135135135\n",
      "0.9345945945945946\n",
      "0.9394594594594594\n",
      "0.94\n",
      "0.9491891891891892\n",
      "0.9508108108108108\n",
      "0.9491891891891892\n",
      "0.9513513513513514\n",
      "0.9556756756756757\n",
      "0.9540540540540541\n",
      "0.9562162162162162\n",
      "0.9551351351351351\n",
      "0.9556756756756757\n",
      "0.9578378378378378\n",
      "0.9578378378378378\n",
      "0.9583783783783784\n",
      "0.9621621621621622\n",
      "0.9616216216216216\n",
      "0.9605405405405405\n",
      "0.96\n",
      "0.9621621621621622\n",
      "No more gamma-weak classifier for p^t distribution at iter  31\n",
      "End of time T\n"
     ]
    }
   ],
   "source": [
    "boosted_classifier = []\n",
    "boosting_accs = [0]\n",
    "bossted_indexes = []\n",
    "\n",
    "for t in range(T):\n",
    "    \n",
    "    gamma_weak_clf = None\n",
    "    idx_gamma_weak_clf = -1\n",
    "\n",
    "    # updates probabilities\n",
    "    p_t = [w_t_i/sum(w_t) for w_t_i in w_t]\n",
    "\n",
    "    best_clf_gamma = 1\n",
    "\n",
    "    # find classifier c^t that is a weak learner for distribution p^t\n",
    "    for clf_index, clf in enumerate(weak_classifiers):\n",
    "        clf_gamma = check_gamma_weak(p_t, test_preds[clf_index], y_crop_test)\n",
    "        # checks the classifier for gamma-weak\n",
    "        if clf_gamma <= 0.5 - gamma and best_clf_gamma > clf_gamma:\n",
    "            gamma_weak_clf = clf_gamma\n",
    "            idx_gamma_weak_clf = clf_index\n",
    "            best_clf_gamma = clf_gamma\n",
    "            # break\n",
    "\n",
    "    # checks if there are no gamma-weak classifers found\n",
    "    if gamma_weak_clf == None:\n",
    "        print(\"No more gamma-weak classifier for p^t distribution at iter \", t)\n",
    "        break\n",
    "\n",
    "    # defines reward array, r_i = 1 if classifier misses this sample, else r_i = 0\n",
    "    r_t = creates_r_t(test_preds[idx_gamma_weak_clf], y_crop_test)\n",
    "\n",
    "    # updates weights\n",
    "    w_t = multiplicative_weights_update(w_t, r_t)\n",
    "\n",
    "    # adds this classifier to the composed boosting classifier\n",
    "    boosted_classifier.append(idx_gamma_weak_clf)\n",
    "    bossted_indexes.append(idx_gamma_weak_clf)\n",
    "    \n",
    "    acc = boosting_accuracy(boosted_classifier, y_crop_test)\n",
    "    boosting_accs.append(acc)\n",
    "\n",
    "print(\"End of time T\")"
   ]
  },
  {
   "cell_type": "code",
   "execution_count": 613,
   "id": "486f7476",
   "metadata": {},
   "outputs": [
    {
     "data": {
      "text/plain": [
       "31"
      ]
     },
     "execution_count": 613,
     "metadata": {},
     "output_type": "execute_result"
    }
   ],
   "source": [
    "len(boosted_classifier)"
   ]
  },
  {
   "cell_type": "code",
   "execution_count": 614,
   "id": "8b60806b",
   "metadata": {},
   "outputs": [
    {
     "data": {
      "text/plain": [
       "[<matplotlib.lines.Line2D at 0x7fa1fdf90990>]"
      ]
     },
     "execution_count": 614,
     "metadata": {},
     "output_type": "execute_result"
    },
    {
     "data": {
      "image/png": "[encoded data removed]",
      "text/plain": [
       "<Figure size 1440x360 with 1 Axes>"
      ]
     },
     "metadata": {
      "needs_background": "light"
     },
     "output_type": "display_data"
    }
   ],
   "source": [
    "# Ploting the accuracy of the generated model for each iteration\n",
    "fig = plt.figure(figsize = (20, 5))\n",
    "plt.plot(boosting_accs)"
   ]
  },
  {
   "cell_type": "code",
   "execution_count": 615,
   "id": "9099e93f",
   "metadata": {},
   "outputs": [
    {
     "name": "stdout",
     "output_type": "stream",
     "text": [
      "0.8637837837837837\n"
     ]
    }
   ],
   "source": [
    "acc_each_clf = []\n",
    "for idx_clf in boosted_classifier:\n",
    "    pred_weak_clf = accuracy_score(test_preds[idx_clf], y_crop_test)\n",
    "    acc_each_clf.append(pred_weak_clf)\n",
    "print(max(acc_each_clf))"
   ]
  },
  {
   "cell_type": "code",
   "execution_count": 616,
   "id": "b75b5f8f",
   "metadata": {},
   "outputs": [
    {
     "data": {
      "text/plain": [
       "(array([ 69,  99, 129, 190, 207, 215, 243, 244, 296, 350, 386, 415, 441,\n",
       "        457, 459, 461, 484, 485, 486, 487, 514, 515, 548, 576, 577, 656,\n",
       "        658, 660]),\n",
       " array([1, 1, 1, 1, 1, 1, 1, 1, 1, 1, 3, 1, 1, 1, 1, 1, 1, 1, 1, 1, 1, 1,\n",
       "        1, 1, 1, 2, 1, 1]))"
      ]
     },
     "execution_count": 616,
     "metadata": {},
     "output_type": "execute_result"
    }
   ],
   "source": [
    "# Checking number of unique classifers chosen by Boosting\n",
    "np.unique(bossted_indexes, return_counts=True)"
   ]
  },
  {
   "cell_type": "code",
   "execution_count": 605,
   "id": "917c9d88",
   "metadata": {},
   "outputs": [
    {
     "data": {
      "text/plain": [
       "92"
      ]
     },
     "execution_count": 605,
     "metadata": {},
     "output_type": "execute_result"
    }
   ],
   "source": []
  },
  {
   "cell_type": "code",
   "execution_count": null,
   "id": "702f4140",
   "metadata": {},
   "outputs": [],
   "source": []
  }
 ],
 "metadata": {
  "kernelspec": {
   "display_name": "Python 3.7.11 ('tf')",
   "language": "python",
   "name": "python3"
  },
  "language_info": {
   "codemirror_mode": {
    "name": "ipython",
    "version": 3
   },
   "file_extension": ".py",
   "mimetype": "text/x-python",
   "name": "python",
   "nbconvert_exporter": "python",
   "pygments_lexer": "ipython3",
   "version": "3.7.11"
  },
  "vscode": {
   "interpreter": {
    "hash": "20cc09d8d40e5b4b70f4994fd1d6d693e5191bafcf07fc98f1635c212e208463"
   }
  }
 },
 "nbformat": 4,
 "nbformat_minor": 5
}
